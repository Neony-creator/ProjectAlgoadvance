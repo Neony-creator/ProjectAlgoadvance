{
 "cells": [
  {
   "cell_type": "markdown",
   "metadata": {
    "pycharm": {
     "name": "#%% md\n"
    }
   },
   "source": [
    "\n",
    "# <center>Livrable 1</center>\n"
   ]
  },
  {
   "cell_type": "markdown",
   "metadata": {
    "pycharm": {
     "name": "#%% md\n"
    }
   },
   "source": [
    "### Table of Contents\n",
    "\n",
    "* [Introduction](#introduction)\n",
    "    * [Présentation du groupe](#présentation-du-groupe)\n",
    "    * [Contexte original](#contexte-original)\n",
    "    * [Objectif du livrable](#objectif-du-livrable)\n",
    "        \n",
    "* [Contextualisation du projet](#contextualisation_du_projet)\n",
    "    * [Propriétés théoriques](#proprietes_theoriques)\n",
    "* [Représentation des données](#representation_des_données)\n",
    "    * [Repréntation du problème](#reprentation_du_probleme)\n",
    "    * [Contraintes à traiter](#contraintes_a_traiter)"
   ]
  },
  {
   "cell_type": "markdown",
   "metadata": {
    "pycharm": {
     "name": "#%% md\n"
    }
   },
   "source": [
    "### Présentation du groupe\n",
    "\n",
    "* Tanguy Gackel\n",
    "* Anna Steinmetz\n",
    "* Alexandre Eberle\n",
    "* Hugo Kretz\n",
    "\n",
    "\n"
   ]
  },
  {
   "cell_type": "markdown",
   "metadata": {
    "pycharm": {
     "name": "#%% md\n"
    }
   },
   "source": [
    "### Contexte original:\n",
    "\n",
    " L'ADEME a lancé un appel à manifestation d'intérêt pour développer de nouvelles solutions de mobilité adaptées à différents territoires. On fait partie de l'équipe de CesiCDP chargée de répondre à cet appel en proposant une méthode de gestion de tournées de livraison visant à minimiser la durée totale du trajet.\n",
    "\n",
    "Cette tournée de livraison doit répondre à certaines contraintes. Il faut que le camion de livraison revienne à son point de départ. D’autres contraintes peuvent être ajouté, comme la gestion d’une fenêtre de livraison, la gestion de plusieurs camions en même temps, ou des variations de temps de parcours des arêtes."
   ]
  },
  {
   "cell_type": "markdown",
   "metadata": {
    "pycharm": {
     "name": "#%% md\n"
    }
   },
   "source": [
    "### Contexte formel\n",
    "\n",
    "<h3>Description du problème :</h3>\n",
    "Le réseau routier est représenté par un graphe connexe pondéré, où chaque nœud représente une ville et chaque arête représente une route reliant deux villes.\n",
    "La pondération des arêtes correspond à la distance entre les villes.\n",
    "\n",
    "L'objectif est de trouver une tournée de livraison qui relie toutes les villes du graphe, en passant par chaque nœud une ou plusieurs fois, et en minimisant la durée totale de la tournée.\n",
    "\n",
    "<h3>Modélisation des contraintes :</h3>\n",
    "\n",
    "Voici les contraintes de bases :\n",
    "\n",
    "<h4>Le graphe est connexe et pondéré :</h4>\n",
    "\n",
    "    Soit G = (V, E), un graphe connexe.\n",
    "    Chaque arête e ∈ E est pondérée par une distance d(e), correspondant à la distance entre les villes reliées par cette arête.\n",
    "\n",
    "<h4>Le camion doit passer par toutes les villes :</h4>\n",
    "\n",
    "    Soit S = (v₁, v₂, ..., vₙ) , une séquence ordonnée de nœuds dans V, où v₁ est le point de départ et vₙ est le point d'arrivée.\n",
    "    Le camion doit parcourir tous les noeuds de V dans l'ordre défini par la séquence S.\n",
    "\n",
    "<h4>Le camion peut parcourir plusieurs fois la même ville :</h4>\n",
    "\n",
    "    Pour chaque nœud vᵢ dans V, y représente le nombre de fois où vᵢ apparaît dans la séquence S. La variable y est un nombre entier positif.\n",
    "    Donc, ∀ vᵢ ∈ V, y ≥ 0\n",
    "    ∀ vᵢ ∈ V, y = n si le nœud apparait n fois dans la séquence S.\n",
    "\n",
    "<h4>Le camion doit revenir à son point de départ :</h4>\n",
    "\n",
    "    La séquence S doit former une boucle, où v₁ = vₙ, pour assurer que le camion revienne à son point de départ après avoir visité toutes les villes.\n",
    "\n",
    "On peut également rajouter d'autres contraintes plus complexes :\n",
    "\n",
    "<h4>Le temps de parcours d'une arête varie au cours du temps :</h4>\n",
    "\n",
    "    Soit G = (V, E), un graphe connexe.\n",
    "    Chaque arête e ∈ E est pondérée par une fonction w(d(e), t), où d(e) représente la distance entre les arêtes, et dépendante du temps.\n",
    "\n",
    "<h4>Fenêtre de temps pour chaque livraison :</h4>\n",
    "\n",
    "    Soit W = {w₁, w₂, ..., wₘ} l'ensemble des livraisons à effectuer, où à chaque livraison wₘ est associé une fenêtre de livraison [tᵢ, tⱼ], où tᵢ représente le début de la fenêtre et tⱼ représente la fin de la fenêtre.\n",
    "    Soit tₓ l'heure d'arrivée du camion au nœud vᵢ.\n",
    "    Alors ∀ i, j : tₓ ≥ tᵢ ⇒ tₓ ≤ tⱼ\n",
    "    Alors ∀ i, j : tₓ < tᵢ ⇒ tₓ = tᵢ\n",
    "\n",
    "<h4>Plusieurs camions de livraions :</h4>\n",
    "\n",
    "    Soit k le nombre de camions disponibles simultanément pour les livraisons\n",
    "    Soit X = {(i, j) | i ∈ {1, 2, ..., n}, j ∈ {1, 2, ..., k}} un ensemble de booléens qui indiquent si le nœud vᵢ est affecté au camion. Si X[i, j] = 1, cela signifie que le nœud vᵢ est affecté au camion j.\n",
    "    Donc ∀ i : ∑(j=1 à k) X[i, j] = 1\n",
    "\n",
    "    Soit R = (r₁, r₂, ..., rₖ) un ensemble de variables représentant la date de retour de chaque camion. Si R[j] = t, cela signifie que le camion j retourne à la base à l'instant t.\n",
    "    Donc ∀ j : R[j] = max {t | ∃i : X[i, j] = 1}\n",
    "\n",
    "\n",
    "<h3>Fonction objectif :</h3>\n",
    "\n",
    "Voici notre fonction objectif :\n",
    "\n",
    "    F = max {r₁, r₂, ..., rₖ}\n",
    "\n",
    "![](./Map_of_vrp_subproblems.jpg)\n",
    "https://en.wikipedia.org/wiki/Vehicle_routing_problem\n",
    "\n",
    "Le problème à résoudre peut être formalisé comme un problème d'optimisation mathématique. Soit un réseau routier représenté par un graphe orienté G = (V, A), où V est l'ensemble des villes et A est l'ensemble des axes routiers reliant les villes. \n",
    "\n",
    "Soit S un sous-ensemble de V contenant les villes à relier entre elles dans une tournée de livraison. Le but est de trouver une tournée hamiltonienne dans G, c'est-à-dire un chemin fermé passant par chaque ville de S une seule fois, en revenant finalement à la ville de départ. \n",
    "\n",
    "La durée totale de la tournée est minimisée en optimisant la fonction objectif suivante : \n",
    "\n",
    "min ∑(i,j)∈A c(i,j) * x(i,j) \n",
    "\n",
    "où c(i,j) représente le coût (par exemple, le temps de trajet ou la distance) pour se déplacer de la ville i à la ville j, et x(i,j) est une variable de décision binaire prenant la valeur 1 si l'axe (i,j) est emprunté dans la tournée et 0 sinon. \n",
    "\n",
    "Le problème est soumis à certaines contraintes, telles que : \n",
    "\n",
    "Chaque ville de S doit être visitée exactement une fois : ∑(j,i)∈A x(j,i) = 1 pour tout i∈S ∑(i,j)∈A x(i,j) = 1 pour tout i∈S \n",
    "\n",
    "Chaque ville hors de S doit être visitée zéro ou une fois : ∑(j,i)∈A x(j,i) ≤ 1 pour tout i∈V\\S ∑(i,j)∈A x(i,j) ≤ 1 pour tout i∈V\\S \n",
    "\n",
    "La tournée doit former un chemin fermé : ∑(i,j)∈A x(i,j) = ∑(j,i)∈A x(j,i) = 1 pour tout i∈S \n",
    "\n",
    "Les contraintes de trafic horaire peuvent être prises en compte, par exemple : ∑(i,j)∈A x(i,j) ≤ c(i,j) pour tout (i,j)∈A et pour chaque tranche horaire considérée \n",
    "\n",
    "Le problème ainsi formalisé peut être résolu à l'aide de techniques d'optimisation combinatoire, telles que la programmation linéaire en nombres entiers (PLNE) ou les algorithmes heuristiques spécifiques aux problèmes de tournées de véhicules. "
   ]
  }
 ],
 "metadata": {
  "kernelspec": {
   "display_name": "Python 3 (ipykernel)",
   "language": "python",
   "name": "python3"
  },
  "language_info": {
   "codemirror_mode": {
    "name": "ipython",
    "version": 3
   },
   "file_extension": ".py",
   "mimetype": "text/x-python",
   "name": "python",
   "nbconvert_exporter": "python",
   "pygments_lexer": "ipython3",
   "version": "3.10.11"
  }
 },
 "nbformat": 4,
 "nbformat_minor": 4
}