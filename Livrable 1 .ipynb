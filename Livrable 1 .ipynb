{
 "cells": [
  {
   "cell_type": "markdown",
   "metadata": {},
   "source": [
    "\n",
    "# <center>Livrable 1</center>\n"
   ]
  },
  {
   "cell_type": "markdown",
   "metadata": {},
   "source": [
    "### Table of Contents\n",
    "\n",
    "* [Introduction](#introduction)\n",
    "    * [Présentation du groupe](#présentation-du-groupe)\n",
    "    * [Contexte original](#contexte-original)\n",
    "    * [Objectif du livrable](#objectif-du-livrable)\n",
    "        \n",
    "* [Contextualisation du projet](#contextualisation_du_projet)\n",
    "    * [Propriétés théoriques](#proprietes_theoriques)\n",
    "* [Représentation des données](#representation_des_données)\n",
    "    * [Repréntation du problème](#reprentation_du_probleme)\n",
    "    * [Contraintes à traiter](#contraintes_a_traiter)"
   ]
  },
  {
   "cell_type": "markdown",
   "metadata": {},
   "source": [
    "### Présentation du groupe\n",
    "\n",
    "* Alexandre Eberle\n",
    "* Tanguy Gackel\n",
    "* Hugo Kretz\n",
    "* Anna Steinmetz\n"
   ]
  },
  {
   "cell_type": "markdown",
   "metadata": {},
   "source": [
    "### Contexte original : \n",
    "\n",
    " \n",
    "L'ADEME (Agence de l’Environnement et de la Maîtrise de l’Energie) a récemment lancé un appel à manifestation d’intérêt pour promouvoir la réalisation de démonstrateurs et d’expérimentations de nouvelles solutions de mobilité pour les personnes et les marchandises adaptées à différents types de territoires. \n",
    "\n",
    "Votre structure CesiCDP est déjà bien implantée dans le domaine. Aidé de nombreux partenaires, vous avez réalisé plusieurs études sur le thème de la Mobilité Multimodale Intelligente. Les nouvelles technologies de transport, plus économiques et moins polluantes ne sont pas sans poser de nouveaux défis notamment d’un point de vue de l’optimisation de la gestion des ressources. Mais ces problèmes de logistique du transport présentent un enjeu majeur pour l’avenir : ses applications sont nombreuses (distribution du courrier, livraison de produits, traitement du réseau routier, ramassage des ordures) et leur impact sur l’environnement peut être véritablement significatif. \n",
    "\n",
    "Vous faites partie de l’équipe (4 personnes) mise en place par CesiCDP pour répondre à l’appel de l’ADEME. L’enjeu est d’obtenir de nouveaux marchés avec des financements très intéressants pour continuer à développer votre activité. \n",
    "\n",
    "CesiCDP a décidé d’orienter son étude sur la gestion de tournées de livraison. Le problème algorithmique consiste à calculer sur un réseau routier une tournée permettant de relier entre elles un sous-ensemble de villes, puis de revenir à son point de départ, de manière à minimiser la durée totale de la tournée. Cette optimisation devra tenir compte du trafic prévu sur chaque axe pour les différentes tranches horaires. \n",
    "\n",
    "L’idée est de proposer une méthode issue de la Recherche Opérationnelle pour générer une tournée de livraison correspondant à ce problème. \n",
    "\n",
    "Le périmètre reste encore à préciser. Vous avez décrit une version de base du problème. Mais, afin de le rendre plus réaliste et retenir toute l’attention de l’ADEME, vous hésitez à ajouter des contraintes supplémentaires. Il faut s’attendre à ce qu’il soit ainsi plus dur à traiter. "
   ]
  },
  {
   "cell_type": "markdown",
   "metadata": {},
   "source": [
    "### Contexte formel\n",
    "\n",
    "Le problème à résoudre peut être formalisé comme un problème d'optimisation mathématique. Soit un réseau routier représenté par un graphe orienté G = (V, A), où V est l'ensemble des villes et A est l'ensemble des axes routiers reliant les villes. \n",
    "\n",
    "Soit S un sous-ensemble de V contenant les villes à relier entre elles dans une tournée de livraison. Le but est de trouver une tournée hamiltonienne dans G, c'est-à-dire un chemin fermé passant par chaque ville de S une seule fois, en revenant finalement à la ville de départ. \n",
    "\n",
    "La durée totale de la tournée est minimisée en optimisant la fonction objectif suivante : \n",
    "\n",
    "min ∑(i,j)∈A c(i,j) * x(i,j) \n",
    "\n",
    "où c(i,j) représente le coût (par exemple, le temps de trajet ou la distance) pour se déplacer de la ville i à la ville j, et x(i,j) est une variable de décision binaire prenant la valeur 1 si l'axe (i,j) est emprunté dans la tournée et 0 sinon. \n",
    "\n",
    "Le problème est soumis à certaines contraintes, telles que : \n",
    "\n",
    "Chaque ville de S doit être visitée exactement une fois : ∑(j,i)∈A x(j,i) = 1 pour tout i∈S ∑(i,j)∈A x(i,j) = 1 pour tout i∈S \n",
    "\n",
    "Chaque ville hors de S doit être visitée zéro ou une fois : ∑(j,i)∈A x(j,i) ≤ 1 pour tout i∈V\\S ∑(i,j)∈A x(i,j) ≤ 1 pour tout i∈V\\S \n",
    "\n",
    "La tournée doit former un chemin fermé : ∑(i,j)∈A x(i,j) = ∑(j,i)∈A x(j,i) = 1 pour tout i∈S \n",
    "\n",
    "Les contraintes de trafic horaire peuvent être prises en compte, par exemple : ∑(i,j)∈A x(i,j) ≤ c(i,j) pour tout (i,j)∈A et pour chaque tranche horaire considérée \n",
    "\n",
    "Le problème ainsi formalisé peut être résolu à l'aide de techniques d'optimisation combinatoire, telles que la programmation linéaire en nombres entiers (PLNE) ou les algorithmes heuristiques spécifiques aux problèmes de tournées de véhicules. "
   ]
  }
 ],
 "metadata": {
  "kernelspec": {
   "display_name": "Python 3 (ipykernel)",
   "language": "python",
   "name": "python3"
  },
  "language_info": {
   "codemirror_mode": {
    "name": "ipython",
    "version": 3
   },
   "file_extension": ".py",
   "mimetype": "text/x-python",
   "name": "python",
   "nbconvert_exporter": "python",
   "pygments_lexer": "ipython3",
   "version": "3.11.3"
  }
 },
 "nbformat": 4,
 "nbformat_minor": 4
}
