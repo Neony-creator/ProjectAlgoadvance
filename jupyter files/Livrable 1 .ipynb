{
 "cells": [
  {
   "cell_type": "markdown",
   "metadata": {
    "pycharm": {
     "name": "#%% md\n"
    }
   },
   "source": [
    "\n",
    "# <center>Projet ADEME - Livrable 1 : Modélisation - Groupe 9</center>\n"
   ]
  },
  {
   "cell_type": "markdown",
   "metadata": {
    "pycharm": {
     "name": "#%% md\n"
    }
   },
   "source": [
    "### Table of Contents\n",
    "\n",
    "* [1)Présentation du groupe](#présentation-du-groupe)\n",
    "* [2) Introduction](#introduction)\n",
    "    * [2.1) Contexte et Problème](#contexte-et-problème)\n",
    "    * [2.2 Reformulation formelle du problème](#reformulation-formelle-du-problème)\n",
    "    * [2.3 Propriétés théoriques et complexité](#propriétés-théoriques-et-complexité)\n",
    "        \n",
    "* [Contextualisation du projet](#contextualisation_du_projet)\n",
    "    * [Propriétés théoriques](#proprietes_theoriques)\n",
    "* [Représentation des données](#representation_des_données)\n",
    "    * [Repréntation du problème](#reprentation_du_probleme)\n",
    "    * [Contraintes à traiter](#contraintes_a_traiter)"
   ]
  },
  {
   "cell_type": "markdown",
   "metadata": {
    "pycharm": {
     "name": "#%% md\n"
    }
   },
   "source": [
    "### 1) Présentation du groupe <a class=\"anchor\" id=\"présentation-du-groupe\"></a>\n",
    "\n",
    "* Alexandre Eberle\n",
    "* Tanguy Gackel\n",
    "* Hugo Kretz\n",
    "* Anna Steinmetz (chef de projet)\n",
    "\n"
   ]
  },
  {
   "cell_type": "markdown",
   "metadata": {
    "pycharm": {
     "name": "#%% md\n"
    }
   },
   "source": [
    "### 2) Introduction <a class=\"anchor\" id=\"introduction\"></a>"
   ]
  },
  {
   "cell_type": "markdown",
   "metadata": {
    "pycharm": {
     "name": "#%% md\n"
    }
   },
   "source": [
    "#### 2.1) Contexte et Problème : <a class=\"anchor\" id=\"contexte-et-problème\"></a>\n",
    "\n",
    "\n",
    "##### Contexte :  \n",
    "\n",
    "\n",
    " L'ADEME a lancé un appel à manifestation d'intérêt pour développer de nouvelles solutions de mobilité adaptées à différents territoires. On fait partie de l'équipe de CesiCDP chargée de répondre à cet appel en proposant une méthode de gestion de tournées de livraison visant à minimiser la durée totale du trajet.\n",
    "\n",
    "\n",
    "\n",
    "##### Problème :  \n",
    "\n",
    "Cette tournée de livraison doit répondre à certaines contraintes. Il faut que le camion de livraison revienne à son point de départ. D’autres contraintes peuvent être ajouté, comme la gestion d’une fenêtre de livraison, la gestion de plusieurs camions en même temps, ou des variations de temps de parcours des arêtes.\n",
    "\n"
   ]
  },
  {
   "cell_type": "markdown",
   "metadata": {
    "pycharm": {
     "name": "#%% md\n"
    }
   },
   "source": [
    "#### 2.2) Reformulation formelle du problème : <a class=\"anchor\" id=\"reformulation-formelle-du-problème\"></a>\n",
    "  \n",
    "\n",
    "\n",
    " L'ADEME a lancé un appel à manifestation d'intérêt pour développer de nouvelles solutions de mobilité adaptées à différents t\n"
   ]
  },
  {
   "cell_type": "markdown",
   "metadata": {
    "pycharm": {
     "name": "#%% md\n"
    }
   },
   "source": [
    "### Contexte formel\n",
    "\n",
    "\n",
    "aaaaaaaaaaaaaaaaaa\n",
    "<h3>Description du problème :</h3>\n",
    "Le réseau routier est représenté par un graphe connexe pondéré, où chaque nœud représente une ville et chaque arête représente une route reliant deux villes.\n",
    "La pondération des arêtes correspond à la distance entre les villes.\n",
    "\n",
    "L'objectif est de trouver une tournée de livraison qui relie toutes les villes du graphe, en passant par chaque nœud une ou plusieurs fois, et en minimisant la durée totale de la tournée.\n",
    "\n",
    "<h3>Modélisation des contraintes :</h3>\n",
    "\n",
    "Voici les contraintes de bases :\n",
    "\n",
    "<h4>Le graphe est connexe et pondéré :</h4>\n",
    "\n",
    "    Soit G = (V, E), un graphe connexe.\n",
    "    Chaque arête i, j ∈ V est pondérée par une distance d(i,j), correspondant à la distance entre les villes reliées par cette arête.\n",
    "\n",
    "<h4>Le camion doit passer par toutes les villes :</h4>\n",
    "\n",
    "    Soit S = (v₁, v₂, ..., vₙ) , une séquence ordonnée de nœuds dans V, où v₁ est le point de départ et vₙ est le point d'arrivée.\n",
    "    Le camion doit parcourir tous les noeuds de V dans l'ordre défini par la séquence S.\n",
    "\n",
    "<h4>Le camion peut parcourir plusieurs fois la même ville :</h4>\n",
    "\n",
    "    Pour chaque nœud vᵢ dans V, y représente le nombre de fois où vᵢ apparaît dans la séquence S. La variable y est un nombre entier positif.\n",
    "    Donc, ∀ vᵢ ∈ V, y ≥ 0\n",
    "    ∀ vᵢ ∈ V, y = n si le nœud apparait n fois dans la séquence S.\n",
    "\n",
    "<h4>Le camion doit revenir à son point de départ :</h4>\n",
    "\n",
    "    La séquence S doit former une boucle, où v₁ = vₙ, pour assurer que le camion revienne à son point de départ après avoir visité toutes les villes.\n",
    "\n",
    "On peut également rajouter d'autres contraintes plus complexes :\n",
    "\n",
    "<h4>Le temps de parcours d'une arête varie au cours du temps :</h4>\n",
    "\n",
    "    Soit G = (V, E), un graphe connexe.\n",
    "    Chaque arête e ∈ E est pondérée par une fonction w(d(e), t), où d(e) représente la distance entre les arêtes, et dépendante du temps.\n",
    "\n",
    "<h4>Fenêtre de temps pour chaque livraison :</h4>\n",
    "\n",
    "    Soit W = {w₁, w₂, ..., wₘ} l'ensemble des livraisons à effectuer, où à chaque livraison wₘ est associé une fenêtre de livraison [tᵢ, tⱼ], où tᵢ représente le début de la fenêtre et tⱼ représente la fin de la fenêtre.\n",
    "    Soit tₓ l'heure d'arrivée du camion au nœud vᵢ.\n",
    "    Alors ∀ i, j : tₓ ≥ tᵢ ⇒ tₓ ≤ tⱼ\n",
    "    Alors ∀ i, j : tₓ < tᵢ ⇒ tₓ = tᵢ\n",
    "\n",
    "<h4>Plusieurs camions de livraions :</h4>\n",
    "\n",
    "    Soit k le nombre de camions disponibles simultanément pour les livraisons\n",
    "    Soit X = {(i, j) | i ∈ {1, 2, ..., n}, j ∈ {1, 2, ..., k}} un ensemble de booléens qui indiquent si le nœud vᵢ est affecté au camion. Si X[i, j] = 1, cela signifie que le nœud vᵢ est affecté au camion j.\n",
    "    Donc ∀ i : ∑(j=1 à k) X[i, j] = 1\n",
    "\n",
    "    Soit R = (r₁, r₂, ..., rₖ) un ensemble de variables représentant la date de retour de chaque camion. Si R[j] = t, cela signifie que le camion j retourne à la base à l'instant t.\n",
    "    Donc ∀ j : R[j] = max {t | ∃i : X[i, j] = 1}\n",
    "\n",
    "\n",
    "<h3>Fonction objectif :</h3>\n",
    "\n",
    "Voici notre fonction objectif :\n",
    "min\n",
    "    F = max {r₁, r₂, ..., rₖ}\n",
    "\n",
    "\n",
    "\n",
    "I :L'ensemble des villes.\n",
    "\n",
    "$c_i_j$ : cout du trajet entre ville i et ville j\n",
    "\n",
    "$x_i_j$ : indique 1 si on visite la ville j depuis la ville i ou 0 sinon\n",
    "\n",
    "fonction objectif :\n",
    "\n",
    "Minimiser Z\n",
    "\n",
    "Z = ∑(i∈I)∑(j∈I)$c_i_j$*$x_i_j$\n",
    "\n",
    "Contrainte 1 :\n",
    "la contrainte d'affectation, qui garantit que chaque nœud est quitté en total exactement.\n",
    "∑(i∈I)$x_i_j$=1 ∀$_j_∈_I$\n",
    "\n",
    "Contrainte 2 :\n",
    "la contrainte d'affectation, qui garantit que chaque nœud est visité en total exactement une fois.\n",
    "∑(j∈I)$x_i_j$=1 ∀$_i_∈_I$\n",
    "\n",
    "Contrainte 3 :\n",
    "indiquer que $x_{ij}$ est une variable binaire et égale à 1 ou 0.\n",
    "$x_i_j$∈{0,1} $∀_i,_j_∈_I$\n",
    "\n",
    "Contrainte 4 :\n",
    "éliminer les sous tours à l'aide de la méthode Miller–Tucker–Zemlin (MTZ).\n",
    "$u_i$ - $u_j$ + I * $x_i_j$ <= I - 1 $∀_i,_j_∈_I,j!=1,i!=j$\n",
    "$u_i$ >= 0  $∀_i∈I$\n",
    "\n",
    "\n",
    "\n",
    "\n",
    "\n",
    "\n",
    "\n"
   ]
  },
  {
   "cell_type": "code",
   "execution_count": null,
   "metadata": {
    "pycharm": {
     "name": "#%%\n",
     "is_executing": true
    }
   },
   "outputs": [],
   "source": []
  },
  {
   "cell_type": "code",
   "execution_count": null,
   "outputs": [],
   "source": [],
   "metadata": {
    "collapsed": false,
    "pycharm": {
     "name": "#%%\n"
    }
   }
  }
 ],
 "metadata": {
  "kernelspec": {
   "display_name": "Python 3 (ipykernel)",
   "language": "python",
   "name": "python3"
  },
  "language_info": {
   "codemirror_mode": {
    "name": "ipython",
    "version": 3
   },
   "file_extension": ".py",
   "mimetype": "text/x-python",
   "name": "python",
   "nbconvert_exporter": "python",
   "pygments_lexer": "ipython3",
   "version": "3.10.11"
  }
 },
 "nbformat": 4,
 "nbformat_minor": 4
}